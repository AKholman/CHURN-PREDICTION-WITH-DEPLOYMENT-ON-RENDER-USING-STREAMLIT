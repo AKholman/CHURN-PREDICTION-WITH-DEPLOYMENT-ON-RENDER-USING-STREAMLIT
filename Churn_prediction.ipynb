{
 "cells": [
  {
   "cell_type": "markdown",
   "id": "33365d6d-0586-49b3-93bf-03e4afa7ce28",
   "metadata": {},
   "source": [
    "<h1 style=\"text-align: center;\">Project title: Customer Churn Prediction for Telecom Operator Interconnect </h1>   \n",
    "\n",
    "#### Introduction.\n",
    "\n",
    "In this project, we aim to **predict customer churn** for the telecom operator *Interconnect* using machine learning. The company wants to forecast which users are planning to leave and will offer them promotional codes and special plan options. We start by preprocessing and integrating four datasets, preparing them for exploratory data analysis (EDA). Through feature engineering, we define the key input features and the target variable for a supervised binary classification task.  \n",
    "\n",
    "To build the churn prediction model, we will train and evaluate several classification algorithms:  \n",
    "\n",
    "- Logistic Regression  \n",
    "- Random Forest Classifier  \n",
    "- LightGBM  \n",
    "- XGBoost  \n",
    "- CatBoost\n",
    "   \n",
    "Model performance will be evaluated using key metrics, including accuracy, ROC-AUC, and F1 score. Through hyperparameter tuning, our goal is to achieve a ROC-AUC score above 0.75. The best-performing classifier will be selected to reliably predict customer churn for Interconnect.\n",
    "\n",
    "Finally, the selected model will be used to build and deploy a web application, incorporating core principles of machine learning system design."
   ]
  },
  {
   "cell_type": "markdown",
   "id": "a5a582e9-4191-4100-a6af-b30b547eb82b",
   "metadata": {},
   "source": [
    "## 1. Data sources and preprocessing"
   ]
  },
  {
   "cell_type": "code",
   "execution_count": 43,
   "id": "0f33a0e9-44e3-4e75-9f65-061e9aa67368",
   "metadata": {},
   "outputs": [],
   "source": [
    "# importing packages\n",
    "\n",
    "import pandas as pd\n",
    "import numpy as np\n",
    "from matplotlib import pyplot as plt\n",
    "import seaborn as sns\n",
    "from sklearn.model_selection import train_test_split\n",
    "from sklearn.compose import ColumnTransformer\n",
    "from sklearn.preprocessing import OneHotEncoder, StandardScaler, FunctionTransformer\n",
    "from sklearn.pipeline import Pipeline\n",
    "from sklearn.linear_model import LogisticRegression\n",
    "from sklearn.metrics import accuracy_score,f1_score, roc_auc_score, roc_curve, auc\n",
    "from sklearn.ensemble import RandomForestClassifier\n",
    "from sklearn.model_selection import GridSearchCV\n",
    "from lightgbm import LGBMClassifier\n",
    "from xgboost import XGBClassifier \n",
    "from catboost import CatBoostClassifier "
   ]
  },
  {
   "cell_type": "code",
   "execution_count": 45,
   "id": "bc8d6428-a464-493a-b1e9-0be36b3264af",
   "metadata": {},
   "outputs": [],
   "source": [
    "# dowloading datasets\n",
    "contract = pd.read_csv('contract.csv')\n",
    "internet = pd.read_csv('internet.csv')\n",
    "personal = pd.read_csv('personal.csv')\n",
    "phone = pd.read_csv('phone.csv')"
   ]
  },
  {
   "cell_type": "markdown",
   "id": "87fd271d-e3d0-4285-bd62-33284e440ad0",
   "metadata": {},
   "source": [
    "### 1.1. Preprocessing of 'contract' dataset"
   ]
  },
  {
   "cell_type": "code",
   "execution_count": 48,
   "id": "f01042cd-6c45-4bb5-b645-fff5e8fd4bef",
   "metadata": {},
   "outputs": [
    {
     "name": "stdout",
     "output_type": "stream",
     "text": [
      "0\n",
      "<class 'pandas.core.frame.DataFrame'>\n",
      "RangeIndex: 7043 entries, 0 to 7042\n",
      "Data columns (total 8 columns):\n",
      " #   Column             Non-Null Count  Dtype  \n",
      "---  ------             --------------  -----  \n",
      " 0   customer_id        7043 non-null   object \n",
      " 1   begin_date         7043 non-null   object \n",
      " 2   end_date           7043 non-null   object \n",
      " 3   type               7043 non-null   object \n",
      " 4   paperless_billing  7043 non-null   object \n",
      " 5   payment_method     7043 non-null   object \n",
      " 6   monthly_charges    7043 non-null   float64\n",
      " 7   total_charges      7043 non-null   object \n",
      "dtypes: float64(1), object(7)\n",
      "memory usage: 440.3+ KB\n"
     ]
    },
    {
     "data": {
      "text/html": [
       "<div>\n",
       "<style scoped>\n",
       "    .dataframe tbody tr th:only-of-type {\n",
       "        vertical-align: middle;\n",
       "    }\n",
       "\n",
       "    .dataframe tbody tr th {\n",
       "        vertical-align: top;\n",
       "    }\n",
       "\n",
       "    .dataframe thead th {\n",
       "        text-align: right;\n",
       "    }\n",
       "</style>\n",
       "<table border=\"1\" class=\"dataframe\">\n",
       "  <thead>\n",
       "    <tr style=\"text-align: right;\">\n",
       "      <th></th>\n",
       "      <th>customer_id</th>\n",
       "      <th>begin_date</th>\n",
       "      <th>end_date</th>\n",
       "      <th>type</th>\n",
       "      <th>paperless_billing</th>\n",
       "      <th>payment_method</th>\n",
       "      <th>monthly_charges</th>\n",
       "      <th>total_charges</th>\n",
       "    </tr>\n",
       "  </thead>\n",
       "  <tbody>\n",
       "    <tr>\n",
       "      <th>0</th>\n",
       "      <td>7590-VHVEG</td>\n",
       "      <td>2020-01-01</td>\n",
       "      <td>No</td>\n",
       "      <td>Month-to-month</td>\n",
       "      <td>Yes</td>\n",
       "      <td>Electronic check</td>\n",
       "      <td>29.85</td>\n",
       "      <td>29.85</td>\n",
       "    </tr>\n",
       "    <tr>\n",
       "      <th>1</th>\n",
       "      <td>5575-GNVDE</td>\n",
       "      <td>2017-04-01</td>\n",
       "      <td>No</td>\n",
       "      <td>One year</td>\n",
       "      <td>No</td>\n",
       "      <td>Mailed check</td>\n",
       "      <td>56.95</td>\n",
       "      <td>1889.5</td>\n",
       "    </tr>\n",
       "    <tr>\n",
       "      <th>2</th>\n",
       "      <td>3668-QPYBK</td>\n",
       "      <td>2019-10-01</td>\n",
       "      <td>2019-12-01 00:00:00</td>\n",
       "      <td>Month-to-month</td>\n",
       "      <td>Yes</td>\n",
       "      <td>Mailed check</td>\n",
       "      <td>53.85</td>\n",
       "      <td>108.15</td>\n",
       "    </tr>\n",
       "    <tr>\n",
       "      <th>3</th>\n",
       "      <td>7795-CFOCW</td>\n",
       "      <td>2016-05-01</td>\n",
       "      <td>No</td>\n",
       "      <td>One year</td>\n",
       "      <td>No</td>\n",
       "      <td>Bank transfer (automatic)</td>\n",
       "      <td>42.30</td>\n",
       "      <td>1840.75</td>\n",
       "    </tr>\n",
       "    <tr>\n",
       "      <th>4</th>\n",
       "      <td>9237-HQITU</td>\n",
       "      <td>2019-09-01</td>\n",
       "      <td>2019-11-01 00:00:00</td>\n",
       "      <td>Month-to-month</td>\n",
       "      <td>Yes</td>\n",
       "      <td>Electronic check</td>\n",
       "      <td>70.70</td>\n",
       "      <td>151.65</td>\n",
       "    </tr>\n",
       "  </tbody>\n",
       "</table>\n",
       "</div>"
      ],
      "text/plain": [
       "  customer_id  begin_date             end_date            type  \\\n",
       "0  7590-VHVEG  2020-01-01                   No  Month-to-month   \n",
       "1  5575-GNVDE  2017-04-01                   No        One year   \n",
       "2  3668-QPYBK  2019-10-01  2019-12-01 00:00:00  Month-to-month   \n",
       "3  7795-CFOCW  2016-05-01                   No        One year   \n",
       "4  9237-HQITU  2019-09-01  2019-11-01 00:00:00  Month-to-month   \n",
       "\n",
       "  paperless_billing             payment_method  monthly_charges total_charges  \n",
       "0               Yes           Electronic check            29.85         29.85  \n",
       "1                No               Mailed check            56.95        1889.5  \n",
       "2               Yes               Mailed check            53.85        108.15  \n",
       "3                No  Bank transfer (automatic)            42.30       1840.75  \n",
       "4               Yes           Electronic check            70.70        151.65  "
      ]
     },
     "execution_count": 48,
     "metadata": {},
     "output_type": "execute_result"
    }
   ],
   "source": [
    "# Preprocessing of 'contract' dataset\n",
    "print(contract.duplicated().sum())\n",
    "contract.rename(columns = {'customerID': 'customer_id', 'BeginDate': 'begin_date', 'EndDate': 'end_date', 'Type': 'type', 'PaperlessBilling': 'paperless_billing', 'PaymentMethod': 'payment_method', 'MonthlyCharges': 'monthly_charges', 'TotalCharges': 'total_charges'}, inplace=True)\n",
    "contract.info()\n",
    "contract.head()\n"
   ]
  },
  {
   "cell_type": "code",
   "execution_count": 50,
   "id": "36902354-e06f-466d-9d00-aa0e793b6f34",
   "metadata": {},
   "outputs": [
    {
     "name": "stdout",
     "output_type": "stream",
     "text": [
      "empty_values: 11\n",
      "\n",
      "      customer_id  begin_date end_date      type paperless_billing  \\\n",
      "488   4472-LVYGI  2020-02-01       No  Two year               Yes   \n",
      "753   3115-CZMZD  2020-02-01       No  Two year                No   \n",
      "936   5709-LVOEQ  2020-02-01       No  Two year                No   \n",
      "1082  4367-NUYAO  2020-02-01       No  Two year                No   \n",
      "1340  1371-DWPAZ  2020-02-01       No  Two year                No   \n",
      "3331  7644-OMVMY  2020-02-01       No  Two year                No   \n",
      "3826  3213-VVOLG  2020-02-01       No  Two year                No   \n",
      "4380  2520-SGTTA  2020-02-01       No  Two year                No   \n",
      "5218  2923-ARZLG  2020-02-01       No  One year               Yes   \n",
      "6670  4075-WKNIU  2020-02-01       No  Two year                No   \n",
      "6754  2775-SEFEE  2020-02-01       No  Two year               Yes   \n",
      "\n",
      "                 payment_method  monthly_charges total_charges  \n",
      "488   Bank transfer (automatic)            52.55                \n",
      "753                Mailed check            20.25                \n",
      "936                Mailed check            80.85                \n",
      "1082               Mailed check            25.75                \n",
      "1340    Credit card (automatic)            56.05                \n",
      "3331               Mailed check            19.85                \n",
      "3826               Mailed check            25.35                \n",
      "4380               Mailed check            20.00                \n",
      "5218               Mailed check            19.70                \n",
      "6670               Mailed check            73.35                \n",
      "6754  Bank transfer (automatic)            61.90                \n",
      "<class 'pandas.core.frame.DataFrame'>\n",
      "RangeIndex: 7043 entries, 0 to 7042\n",
      "Data columns (total 8 columns):\n",
      " #   Column             Non-Null Count  Dtype  \n",
      "---  ------             --------------  -----  \n",
      " 0   customer_id        7043 non-null   object \n",
      " 1   begin_date         7043 non-null   object \n",
      " 2   end_date           7043 non-null   object \n",
      " 3   type               7043 non-null   object \n",
      " 4   paperless_billing  7043 non-null   object \n",
      " 5   payment_method     7043 non-null   object \n",
      " 6   monthly_charges    7043 non-null   float64\n",
      " 7   total_charges      7043 non-null   float64\n",
      "dtypes: float64(2), object(6)\n",
      "memory usage: 440.3+ KB\n"
     ]
    }
   ],
   "source": [
    "# We find out that 'total_charges' column has 11 'whitespace' values. \n",
    "\n",
    "empty_values = (contract['total_charges'] == '').sum() + (contract['total_charges'].str.isspace().sum()) \n",
    "print(f'empty_values: {empty_values}')\n",
    "# The empty 'whitespace' values correspond to the customers who just made first month (2020-02-01) payment. \n",
    "empty_space_rows = contract[contract['total_charges'].str.isspace()]\n",
    "print(f'\\n {empty_space_rows}')\n",
    "\n",
    "'''Because these customers made the first (current) month payment, their total payment is equal to their first month payment. \n",
    "Thus, we fill ' ' values of the 'total_charges' with the corresponding values of the 'monthly_charges':'''\n",
    "contract.loc[contract['total_charges'].str.strip() == '', 'total_charges'] = contract['monthly_charges']\n",
    "\n",
    "# 'monthly_charges' column values are 'float' datatype, while 'total_carges' column values are 'object'. We convert the latter into float datatype: \n",
    "# Now, we convert 'total_charges' values into float datatype:\n",
    "contract['total_charges']= contract['total_charges'].astype(float)\n",
    "\n",
    "contract.info()  # 'both monthly_charges' and 'total_charges' columns are now have float datatype\n"
   ]
  },
  {
   "cell_type": "markdown",
   "id": "5419ce2f-9661-456e-9aa2-899f7993a4af",
   "metadata": {},
   "source": [
    "#### Below we create target column called 'churn'"
   ]
  },
  {
   "cell_type": "code",
   "execution_count": 53,
   "id": "4258a394-8cbe-4e73-962b-ec2e5a19be36",
   "metadata": {},
   "outputs": [
    {
     "name": "stdout",
     "output_type": "stream",
     "text": [
      "<class 'pandas.core.frame.DataFrame'>\n",
      "RangeIndex: 7043 entries, 0 to 7042\n",
      "Data columns (total 9 columns):\n",
      " #   Column             Non-Null Count  Dtype  \n",
      "---  ------             --------------  -----  \n",
      " 0   customer_id        7043 non-null   object \n",
      " 1   begin_date         7043 non-null   object \n",
      " 2   end_date           7043 non-null   object \n",
      " 3   type               7043 non-null   object \n",
      " 4   paperless_billing  7043 non-null   object \n",
      " 5   payment_method     7043 non-null   object \n",
      " 6   monthly_charges    7043 non-null   float64\n",
      " 7   total_charges      7043 non-null   float64\n",
      " 8   churn              7043 non-null   int64  \n",
      "dtypes: float64(2), int64(1), object(6)\n",
      "memory usage: 495.3+ KB\n",
      "churn\n",
      "0    5174\n",
      "1    1869\n",
      "Name: count, dtype: int64\n"
     ]
    }
   ],
   "source": [
    "# Here, according to the project instructions, using the 'end_date' column we create a new target column called 'churn' with '0' \n",
    "#corresponding to 'No' values, and '1' corresponding to all other values of 'end_date' column\n",
    "\n",
    "contract['churn'] = np.where(contract['end_date'] == 'No', 0, 1)   # 0 - no_churned, 1 - churned\n",
    "\n",
    "contract.info()\n",
    "contract.head()\n",
    "print(contract['churn'].value_counts())"
   ]
  },
  {
   "cell_type": "code",
   "execution_count": 55,
   "id": "300b483c-ad8e-4409-82a4-9326b8d976b0",
   "metadata": {},
   "outputs": [
    {
     "name": "stdout",
     "output_type": "stream",
     "text": [
      "<class 'pandas.core.frame.DataFrame'>\n",
      "RangeIndex: 7043 entries, 0 to 7042\n",
      "Data columns (total 8 columns):\n",
      " #   Column             Non-Null Count  Dtype  \n",
      "---  ------             --------------  -----  \n",
      " 0   customer_id        7043 non-null   object \n",
      " 1   type               7043 non-null   object \n",
      " 2   paperless_billing  7043 non-null   object \n",
      " 3   payment_method     7043 non-null   object \n",
      " 4   monthly_charges    7043 non-null   float64\n",
      " 5   total_charges      7043 non-null   float64\n",
      " 6   churn              7043 non-null   int64  \n",
      " 7   tenure_days        7043 non-null   int64  \n",
      "dtypes: float64(2), int64(2), object(4)\n",
      "memory usage: 440.3+ KB\n",
      "None\n"
     ]
    },
    {
     "name": "stderr",
     "output_type": "stream",
     "text": [
      "/var/folders/p7/krbf_vbj2lqf31fmqjz_j8xm0000gn/T/ipykernel_46586/4058662812.py:6: UserWarning: Could not infer format, so each element will be parsed individually, falling back to `dateutil`. To ensure parsing is consistent and as-expected, please specify a format.\n",
      "  contract['end_date'] = pd.to_datetime(contract['end_date'], errors = 'coerce')\n"
     ]
    }
   ],
   "source": [
    "# here we convert 'begin_date' and 'end_date' columns from 'object' datatype to datetime datatype\n",
    "\n",
    "contract['begin_date'] = pd.to_datetime(contract['begin_date'])\n",
    "\n",
    "# for 'end_date' convertion, we use errors = 'coerce' in order to keep 'No' values as a 'NaT' values of the column\n",
    "contract['end_date'] = pd.to_datetime(contract['end_date'], errors = 'coerce')\n",
    "\n",
    "#  Here, we find the cutoff date\n",
    "cutoff_date = contract['end_date'].max()\n",
    "\n",
    "# now we compute tenure\n",
    "contract['tenure_days'] = (contract['end_date'].fillna(cutoff_date) - contract['begin_date']).dt.days\n",
    "\n",
    "# now we can drop both 'begin_date' and 'end_date' columns. they have already been used to create 'churn' and 'tenure_days' columns. \n",
    "\n",
    "contract = contract.drop(columns=['begin_date', 'end_date'])\n",
    "\n",
    "print(contract.info())\n"
   ]
  },
  {
   "cell_type": "markdown",
   "id": "db2ae5b3-db8f-4a06-859e-8f73e7b20978",
   "metadata": {},
   "source": [
    "### 1.2. Preprocessing of 'internet' dataset"
   ]
  },
  {
   "cell_type": "code",
   "execution_count": 58,
   "id": "bbaadef8-8a57-4586-a0c6-b344808c818a",
   "metadata": {},
   "outputs": [
    {
     "name": "stdout",
     "output_type": "stream",
     "text": [
      "<class 'pandas.core.frame.DataFrame'>\n",
      "RangeIndex: 5517 entries, 0 to 5516\n",
      "Data columns (total 8 columns):\n",
      " #   Column            Non-Null Count  Dtype \n",
      "---  ------            --------------  ----- \n",
      " 0   customerID        5517 non-null   object\n",
      " 1   InternetService   5517 non-null   object\n",
      " 2   OnlineSecurity    5517 non-null   object\n",
      " 3   OnlineBackup      5517 non-null   object\n",
      " 4   DeviceProtection  5517 non-null   object\n",
      " 5   TechSupport       5517 non-null   object\n",
      " 6   StreamingTV       5517 non-null   object\n",
      " 7   StreamingMovies   5517 non-null   object\n",
      "dtypes: object(8)\n",
      "memory usage: 344.9+ KB\n",
      "customerID          0\n",
      "InternetService     0\n",
      "OnlineSecurity      0\n",
      "OnlineBackup        0\n",
      "DeviceProtection    0\n",
      "TechSupport         0\n",
      "StreamingTV         0\n",
      "StreamingMovies     0\n",
      "dtype: int64\n",
      "0\n"
     ]
    },
    {
     "data": {
      "text/html": [
       "<div>\n",
       "<style scoped>\n",
       "    .dataframe tbody tr th:only-of-type {\n",
       "        vertical-align: middle;\n",
       "    }\n",
       "\n",
       "    .dataframe tbody tr th {\n",
       "        vertical-align: top;\n",
       "    }\n",
       "\n",
       "    .dataframe thead th {\n",
       "        text-align: right;\n",
       "    }\n",
       "</style>\n",
       "<table border=\"1\" class=\"dataframe\">\n",
       "  <thead>\n",
       "    <tr style=\"text-align: right;\">\n",
       "      <th></th>\n",
       "      <th>customer_id</th>\n",
       "      <th>internet_service</th>\n",
       "      <th>online_security</th>\n",
       "      <th>online_backup</th>\n",
       "      <th>device_protection</th>\n",
       "      <th>tech_support</th>\n",
       "      <th>streaming_tv</th>\n",
       "      <th>streaming_movies</th>\n",
       "    </tr>\n",
       "  </thead>\n",
       "  <tbody>\n",
       "    <tr>\n",
       "      <th>0</th>\n",
       "      <td>7590-VHVEG</td>\n",
       "      <td>DSL</td>\n",
       "      <td>No</td>\n",
       "      <td>Yes</td>\n",
       "      <td>No</td>\n",
       "      <td>No</td>\n",
       "      <td>No</td>\n",
       "      <td>No</td>\n",
       "    </tr>\n",
       "    <tr>\n",
       "      <th>1</th>\n",
       "      <td>5575-GNVDE</td>\n",
       "      <td>DSL</td>\n",
       "      <td>Yes</td>\n",
       "      <td>No</td>\n",
       "      <td>Yes</td>\n",
       "      <td>No</td>\n",
       "      <td>No</td>\n",
       "      <td>No</td>\n",
       "    </tr>\n",
       "    <tr>\n",
       "      <th>2</th>\n",
       "      <td>3668-QPYBK</td>\n",
       "      <td>DSL</td>\n",
       "      <td>Yes</td>\n",
       "      <td>Yes</td>\n",
       "      <td>No</td>\n",
       "      <td>No</td>\n",
       "      <td>No</td>\n",
       "      <td>No</td>\n",
       "    </tr>\n",
       "    <tr>\n",
       "      <th>3</th>\n",
       "      <td>7795-CFOCW</td>\n",
       "      <td>DSL</td>\n",
       "      <td>Yes</td>\n",
       "      <td>No</td>\n",
       "      <td>Yes</td>\n",
       "      <td>Yes</td>\n",
       "      <td>No</td>\n",
       "      <td>No</td>\n",
       "    </tr>\n",
       "    <tr>\n",
       "      <th>4</th>\n",
       "      <td>9237-HQITU</td>\n",
       "      <td>Fiber optic</td>\n",
       "      <td>No</td>\n",
       "      <td>No</td>\n",
       "      <td>No</td>\n",
       "      <td>No</td>\n",
       "      <td>No</td>\n",
       "      <td>No</td>\n",
       "    </tr>\n",
       "  </tbody>\n",
       "</table>\n",
       "</div>"
      ],
      "text/plain": [
       "  customer_id internet_service online_security online_backup  \\\n",
       "0  7590-VHVEG              DSL              No           Yes   \n",
       "1  5575-GNVDE              DSL             Yes            No   \n",
       "2  3668-QPYBK              DSL             Yes           Yes   \n",
       "3  7795-CFOCW              DSL             Yes            No   \n",
       "4  9237-HQITU      Fiber optic              No            No   \n",
       "\n",
       "  device_protection tech_support streaming_tv streaming_movies  \n",
       "0                No           No           No               No  \n",
       "1               Yes           No           No               No  \n",
       "2                No           No           No               No  \n",
       "3               Yes          Yes           No               No  \n",
       "4                No           No           No               No  "
      ]
     },
     "execution_count": 58,
     "metadata": {},
     "output_type": "execute_result"
    }
   ],
   "source": [
    "internet.info()\n",
    "print(internet.isna().sum())\n",
    "print(internet.duplicated().sum())\n",
    "#No missing values, no duplicates\n",
    "# Here, we rename columns' names:\n",
    "internet.rename(columns={'customerID': 'customer_id', 'InternetService': 'internet_service', 'OnlineSecurity': 'online_security', 'OnlineBackup': 'online_backup', 'DeviceProtection': 'device_protection', 'TechSupport': 'tech_support', 'StreamingTV': 'streaming_tv', 'StreamingMovies': 'streaming_movies'}, inplace=True)\n",
    "internet.head()"
   ]
  },
  {
   "cell_type": "code",
   "execution_count": 60,
   "id": "a3aad145-968f-4855-9512-8bc74143f53a",
   "metadata": {},
   "outputs": [
    {
     "data": {
      "text/plain": [
       "internet_service\n",
       "Fiber optic    3096\n",
       "DSL            2421\n",
       "Name: count, dtype: int64"
      ]
     },
     "execution_count": 60,
     "metadata": {},
     "output_type": "execute_result"
    }
   ],
   "source": [
    "internet['internet_service'].value_counts() "
   ]
  },
  {
   "cell_type": "markdown",
   "id": "bc3005cf-3514-4cbb-8baf-fb317353d9a9",
   "metadata": {},
   "source": [
    "### 1.3. Preprocessing of 'personal' dataset"
   ]
  },
  {
   "cell_type": "code",
   "execution_count": 63,
   "id": "2e77c142-c6c8-4e75-be41-a95ac4946ce8",
   "metadata": {},
   "outputs": [
    {
     "name": "stdout",
     "output_type": "stream",
     "text": [
      "<class 'pandas.core.frame.DataFrame'>\n",
      "RangeIndex: 7043 entries, 0 to 7042\n",
      "Data columns (total 5 columns):\n",
      " #   Column         Non-Null Count  Dtype \n",
      "---  ------         --------------  ----- \n",
      " 0   customerID     7043 non-null   object\n",
      " 1   gender         7043 non-null   object\n",
      " 2   SeniorCitizen  7043 non-null   int64 \n",
      " 3   Partner        7043 non-null   object\n",
      " 4   Dependents     7043 non-null   object\n",
      "dtypes: int64(1), object(4)\n",
      "memory usage: 275.2+ KB\n",
      "None\n",
      "customerID       0\n",
      "gender           0\n",
      "SeniorCitizen    0\n",
      "Partner          0\n",
      "Dependents       0\n",
      "dtype: int64\n",
      "0\n",
      "     customer_id  gender  senior_citizen partner dependents\n",
      "4471  2479-BRAMR    Male               1     Yes         No\n",
      "4192  7137-NAXML    Male               0      No         No\n",
      "2615  9297-EONCV  Female               0      No         No\n",
      "3075  5569-IDSEY    Male               0     Yes         No\n",
      "3724  5201-CBWYG    Male               0     Yes        Yes\n"
     ]
    }
   ],
   "source": [
    "print(personal.info())\n",
    "print(personal.isna().sum())\n",
    "print(personal.duplicated().sum())\n",
    "# No missing values, no duplicates\n",
    "\n",
    "# Here, we rename the columns' name:\n",
    "personal.rename(columns={'customerID': 'customer_id', 'SeniorCitizen': 'senior_citizen', 'Partner':'partner', 'Dependents': 'dependents'}, inplace=True)\n",
    "\n",
    "print(personal.sample(5))"
   ]
  },
  {
   "cell_type": "markdown",
   "id": "1927084b-f68d-4f05-992a-6d4ab446c119",
   "metadata": {},
   "source": [
    "### 1.4. Preprocessing of 'phone' dataset"
   ]
  },
  {
   "cell_type": "code",
   "execution_count": 66,
   "id": "9abde2aa-5974-4141-b304-6128cdb0d7bc",
   "metadata": {},
   "outputs": [
    {
     "name": "stdout",
     "output_type": "stream",
     "text": [
      "<class 'pandas.core.frame.DataFrame'>\n",
      "RangeIndex: 6361 entries, 0 to 6360\n",
      "Data columns (total 2 columns):\n",
      " #   Column         Non-Null Count  Dtype \n",
      "---  ------         --------------  ----- \n",
      " 0   customerID     6361 non-null   object\n",
      " 1   MultipleLines  6361 non-null   object\n",
      "dtypes: object(2)\n",
      "memory usage: 99.5+ KB\n",
      "None\n",
      "customerID       0\n",
      "MultipleLines    0\n",
      "dtype: int64\n",
      "0\n",
      "  customer_id multiple_lines\n",
      "0  5575-GNVDE             No\n",
      "1  3668-QPYBK             No\n",
      "2  9237-HQITU             No\n",
      "3  9305-CDSKC            Yes\n",
      "4  1452-KIOVK            Yes\n"
     ]
    }
   ],
   "source": [
    "print(phone.info())\n",
    "print(phone.isna().sum())\n",
    "print(phone.duplicated().sum())\n",
    "#No missing values, no duplicates\n",
    "#Here, we rename the columns' name:\n",
    "phone.rename(columns={'customerID': 'customer_id', 'MultipleLines': 'multiple_lines'}, inplace=True)\n",
    "print(phone.head(5))"
   ]
  },
  {
   "cell_type": "markdown",
   "id": "d0245b07-36d2-40a2-8537-d8724a67196f",
   "metadata": {},
   "source": [
    "## 2. Merging datasets and EDA  "
   ]
  },
  {
   "cell_type": "markdown",
   "id": "7848942a-cb9f-46b7-904d-729eaf4d1ec2",
   "metadata": {},
   "source": [
    "### 2.1. Merging datasets"
   ]
  },
  {
   "cell_type": "code",
   "execution_count": 70,
   "id": "0566940a-0b08-40f4-92dd-6e7399fe8b67",
   "metadata": {},
   "outputs": [
    {
     "data": {
      "text/plain": [
       "customer_id             0\n",
       "type                    0\n",
       "paperless_billing       0\n",
       "payment_method          0\n",
       "monthly_charges         0\n",
       "total_charges           0\n",
       "churn                   0\n",
       "tenure_days             0\n",
       "gender                  0\n",
       "senior_citizen          0\n",
       "partner                 0\n",
       "dependents              0\n",
       "internet_service     1526\n",
       "online_security      1526\n",
       "online_backup        1526\n",
       "device_protection    1526\n",
       "tech_support         1526\n",
       "streaming_tv         1526\n",
       "streaming_movies     1526\n",
       "multiple_lines        682\n",
       "dtype: int64"
      ]
     },
     "execution_count": 70,
     "metadata": {},
     "output_type": "execute_result"
    }
   ],
   "source": [
    "# All four datasets have 'customer_id' columns. Our master dataset is 'contract' and we merge 'how=left': \n",
    "df = contract.merge(personal, on='customer_id', how='left')\n",
    "df = df.merge(internet, on='customer_id', how='left')\n",
    "df = df.merge(phone, on='customer_id', how='left')\n",
    "\n",
    "df.isna().sum()\n"
   ]
  },
  {
   "cell_type": "code",
   "execution_count": 72,
   "id": "6e0f8ee1-5513-4302-9826-2304d136103f",
   "metadata": {},
   "outputs": [
    {
     "data": {
      "text/plain": [
       "customer_id          0\n",
       "type                 0\n",
       "paperless_billing    0\n",
       "payment_method       0\n",
       "monthly_charges      0\n",
       "total_charges        0\n",
       "churn                0\n",
       "tenure_days          0\n",
       "gender               0\n",
       "senior_citizen       0\n",
       "partner              0\n",
       "dependents           0\n",
       "internet_service     0\n",
       "online_security      0\n",
       "online_backup        0\n",
       "device_protection    0\n",
       "tech_support         0\n",
       "streaming_tv         0\n",
       "streaming_movies     0\n",
       "multiple_lines       0\n",
       "dtype: int64"
      ]
     },
     "execution_count": 72,
     "metadata": {},
     "output_type": "execute_result"
    }
   ],
   "source": [
    "# missing values appeard after left merging the datasets. we fill the missing values \n",
    "\n",
    "categorical_cols = [\n",
    "    'internet_service', 'online_security', 'online_backup',\n",
    "    'device_protection', 'tech_support', 'streaming_tv',\n",
    "    'streaming_movies', 'multiple_lines'\n",
    "]\n",
    "\n",
    "# Fill NaN with 'No'\n",
    "df[categorical_cols] = df[categorical_cols].fillna('No')\n",
    "df.isna().sum()"
   ]
  },
  {
   "cell_type": "markdown",
   "id": "531228bb-ec6f-4f88-a65e-c17b713c87bf",
   "metadata": {},
   "source": [
    "### 2.2. EDA of merged dataset"
   ]
  },
  {
   "cell_type": "code",
   "execution_count": 75,
   "id": "6598ece5-9c0a-4c91-81a0-0ee2b70e9bdf",
   "metadata": {},
   "outputs": [
    {
     "data": {
      "image/png": "[encoded data removed]",
      "text/plain": [
       "<Figure size 800x500 with 1 Axes>"
      ]
     },
     "metadata": {},
     "output_type": "display_data"
    }
   ],
   "source": [
    "# Create a count plot\n",
    "plt.figure(figsize=(8, 5))\n",
    "sns.countplot(data=df, x='gender', hue='churn', palette='Set1')\n",
    "\n",
    "# Adding titles and labels\n",
    "plt.title('Churn by Gender')\n",
    "plt.xlabel('Gender')\n",
    "plt.ylabel('Count')\n",
    "plt.legend(title='Churn', loc='upper right', labels=['No Churn (0)', 'Churn (1)'])\n",
    "\n",
    "plt.show()"
   ]
  },
  {
   "cell_type": "code",
   "execution_count": 77,
   "id": "e7911675-a05d-4bf0-a800-5dc6044d97eb",
   "metadata": {},
   "outputs": [
    {
     "name": "stdout",
     "output_type": "stream",
     "text": [
      "<class 'pandas.core.frame.DataFrame'>\n",
      "RangeIndex: 7043 entries, 0 to 7042\n",
      "Data columns (total 18 columns):\n",
      " #   Column             Non-Null Count  Dtype  \n",
      "---  ------             --------------  -----  \n",
      " 0   type               7043 non-null   object \n",
      " 1   paperless_billing  7043 non-null   object \n",
      " 2   payment_method     7043 non-null   object \n",
      " 3   monthly_charges    7043 non-null   float64\n",
      " 4   total_charges      7043 non-null   float64\n",
      " 5   churn              7043 non-null   int64  \n",
      " 6   tenure_days        7043 non-null   int64  \n",
      " 7   senior_citizen     7043 non-null   int64  \n",
      " 8   partner            7043 non-null   object \n",
      " 9   dependents         7043 non-null   object \n",
      " 10  internet_service   7043 non-null   object \n",
      " 11  online_security    7043 non-null   object \n",
      " 12  online_backup      7043 non-null   object \n",
      " 13  device_protection  7043 non-null   object \n",
      " 14  tech_support       7043 non-null   object \n",
      " 15  streaming_tv       7043 non-null   object \n",
      " 16  streaming_movies   7043 non-null   object \n",
      " 17  multiple_lines     7043 non-null   object \n",
      "dtypes: float64(2), int64(3), object(13)\n",
      "memory usage: 990.6+ KB\n"
     ]
    },
    {
     "data": {
      "text/html": [
       "<div>\n",
       "<style scoped>\n",
       "    .dataframe tbody tr th:only-of-type {\n",
       "        vertical-align: middle;\n",
       "    }\n",
       "\n",
       "    .dataframe tbody tr th {\n",
       "        vertical-align: top;\n",
       "    }\n",
       "\n",
       "    .dataframe thead th {\n",
       "        text-align: right;\n",
       "    }\n",
       "</style>\n",
       "<table border=\"1\" class=\"dataframe\">\n",
       "  <thead>\n",
       "    <tr style=\"text-align: right;\">\n",
       "      <th></th>\n",
       "      <th>type</th>\n",
       "      <th>paperless_billing</th>\n",
       "      <th>payment_method</th>\n",
       "      <th>monthly_charges</th>\n",
       "      <th>total_charges</th>\n",
       "      <th>churn</th>\n",
       "      <th>tenure_days</th>\n",
       "      <th>senior_citizen</th>\n",
       "      <th>partner</th>\n",
       "      <th>dependents</th>\n",
       "      <th>internet_service</th>\n",
       "      <th>online_security</th>\n",
       "      <th>online_backup</th>\n",
       "      <th>device_protection</th>\n",
       "      <th>tech_support</th>\n",
       "      <th>streaming_tv</th>\n",
       "      <th>streaming_movies</th>\n",
       "      <th>multiple_lines</th>\n",
       "    </tr>\n",
       "  </thead>\n",
       "  <tbody>\n",
       "    <tr>\n",
       "      <th>5466</th>\n",
       "      <td>One year</td>\n",
       "      <td>Yes</td>\n",
       "      <td>Bank transfer (automatic)</td>\n",
       "      <td>19.95</td>\n",
       "      <td>219.5</td>\n",
       "      <td>0</td>\n",
       "      <td>275</td>\n",
       "      <td>0</td>\n",
       "      <td>No</td>\n",
       "      <td>Yes</td>\n",
       "      <td>No</td>\n",
       "      <td>No</td>\n",
       "      <td>No</td>\n",
       "      <td>No</td>\n",
       "      <td>No</td>\n",
       "      <td>No</td>\n",
       "      <td>No</td>\n",
       "      <td>No</td>\n",
       "    </tr>\n",
       "    <tr>\n",
       "      <th>3082</th>\n",
       "      <td>One year</td>\n",
       "      <td>No</td>\n",
       "      <td>Credit card (automatic)</td>\n",
       "      <td>59.90</td>\n",
       "      <td>3043.6</td>\n",
       "      <td>0</td>\n",
       "      <td>1522</td>\n",
       "      <td>0</td>\n",
       "      <td>No</td>\n",
       "      <td>No</td>\n",
       "      <td>DSL</td>\n",
       "      <td>Yes</td>\n",
       "      <td>No</td>\n",
       "      <td>No</td>\n",
       "      <td>Yes</td>\n",
       "      <td>No</td>\n",
       "      <td>No</td>\n",
       "      <td>Yes</td>\n",
       "    </tr>\n",
       "    <tr>\n",
       "      <th>6513</th>\n",
       "      <td>Month-to-month</td>\n",
       "      <td>Yes</td>\n",
       "      <td>Bank transfer (automatic)</td>\n",
       "      <td>59.65</td>\n",
       "      <td>867.1</td>\n",
       "      <td>0</td>\n",
       "      <td>426</td>\n",
       "      <td>0</td>\n",
       "      <td>Yes</td>\n",
       "      <td>Yes</td>\n",
       "      <td>DSL</td>\n",
       "      <td>No</td>\n",
       "      <td>No</td>\n",
       "      <td>Yes</td>\n",
       "      <td>Yes</td>\n",
       "      <td>No</td>\n",
       "      <td>No</td>\n",
       "      <td>Yes</td>\n",
       "    </tr>\n",
       "    <tr>\n",
       "      <th>5000</th>\n",
       "      <td>Month-to-month</td>\n",
       "      <td>Yes</td>\n",
       "      <td>Credit card (automatic)</td>\n",
       "      <td>49.50</td>\n",
       "      <td>312.7</td>\n",
       "      <td>0</td>\n",
       "      <td>153</td>\n",
       "      <td>0</td>\n",
       "      <td>No</td>\n",
       "      <td>No</td>\n",
       "      <td>DSL</td>\n",
       "      <td>No</td>\n",
       "      <td>No</td>\n",
       "      <td>No</td>\n",
       "      <td>Yes</td>\n",
       "      <td>No</td>\n",
       "      <td>No</td>\n",
       "      <td>No</td>\n",
       "    </tr>\n",
       "    <tr>\n",
       "      <th>6697</th>\n",
       "      <td>One year</td>\n",
       "      <td>Yes</td>\n",
       "      <td>Credit card (automatic)</td>\n",
       "      <td>79.30</td>\n",
       "      <td>2427.1</td>\n",
       "      <td>0</td>\n",
       "      <td>883</td>\n",
       "      <td>0</td>\n",
       "      <td>No</td>\n",
       "      <td>No</td>\n",
       "      <td>DSL</td>\n",
       "      <td>Yes</td>\n",
       "      <td>No</td>\n",
       "      <td>Yes</td>\n",
       "      <td>No</td>\n",
       "      <td>Yes</td>\n",
       "      <td>Yes</td>\n",
       "      <td>Yes</td>\n",
       "    </tr>\n",
       "  </tbody>\n",
       "</table>\n",
       "</div>"
      ],
      "text/plain": [
       "                type paperless_billing             payment_method  \\\n",
       "5466        One year               Yes  Bank transfer (automatic)   \n",
       "3082        One year                No    Credit card (automatic)   \n",
       "6513  Month-to-month               Yes  Bank transfer (automatic)   \n",
       "5000  Month-to-month               Yes    Credit card (automatic)   \n",
       "6697        One year               Yes    Credit card (automatic)   \n",
       "\n",
       "      monthly_charges  total_charges  churn  tenure_days  senior_citizen  \\\n",
       "5466            19.95          219.5      0          275               0   \n",
       "3082            59.90         3043.6      0         1522               0   \n",
       "6513            59.65          867.1      0          426               0   \n",
       "5000            49.50          312.7      0          153               0   \n",
       "6697            79.30         2427.1      0          883               0   \n",
       "\n",
       "     partner dependents internet_service online_security online_backup  \\\n",
       "5466      No        Yes               No              No            No   \n",
       "3082      No         No              DSL             Yes            No   \n",
       "6513     Yes        Yes              DSL              No            No   \n",
       "5000      No         No              DSL              No            No   \n",
       "6697      No         No              DSL             Yes            No   \n",
       "\n",
       "     device_protection tech_support streaming_tv streaming_movies  \\\n",
       "5466                No           No           No               No   \n",
       "3082                No          Yes           No               No   \n",
       "6513               Yes          Yes           No               No   \n",
       "5000                No          Yes           No               No   \n",
       "6697               Yes           No          Yes              Yes   \n",
       "\n",
       "     multiple_lines  \n",
       "5466             No  \n",
       "3082            Yes  \n",
       "6513            Yes  \n",
       "5000             No  \n",
       "6697            Yes  "
      ]
     },
     "execution_count": 77,
     "metadata": {},
     "output_type": "execute_result"
    }
   ],
   "source": [
    "# above shown plot demonstrate that 'churn' behaves as independendt from 'male' and 'female' values.\n",
    "#Therefore we remove 'gender' column from the dataset.\n",
    "# Also, now we can remove 'customer_id' column beacuse it does not have a value for churn prediction. \n",
    "\n",
    "df = df.drop(columns={'customer_id', 'gender'})\n",
    "df.info() \n",
    "df.sample(5)"
   ]
  },
  {
   "cell_type": "markdown",
   "id": "401a97de-9703-4061-ae7e-22be7c535128",
   "metadata": {},
   "source": [
    "## 3. ML training"
   ]
  },
  {
   "cell_type": "code",
   "execution_count": 40,
   "id": "9289601a-0430-456d-89f9-d2e4c9a1816e",
   "metadata": {},
   "outputs": [],
   "source": [
    "# defining X(features) and y(target)\n",
    "X = df.drop('churn', axis=1)\n",
    "y = df['churn']\n",
    "\n",
    "#split into temporary and test datasets\n",
    "X_temp, X_test, y_temp, y_test = train_test_split(X, y, test_size=0.2, random_state=12345)\n",
    "\n",
    "#split into train and validation datasets\n",
    "X_train, X_valid, y_train, y_valid = train_test_split(X_temp, y_temp, test_size=0.25, random_state=12345)"
   ]
  },
  {
   "cell_type": "code",
   "execution_count": 64,
   "id": "a09d9131-6835-41b9-93ad-73afe66902ac",
   "metadata": {},
   "outputs": [],
   "source": [
    "# Here we apply OHE to encode the categorical features and StandardScaler to standardize the numeric features:\n",
    "\n",
    "categorical_features = ['type', 'paperless_billing', 'payment_method', 'partner', 'dependents', 'internet_service', 'online_security', \n",
    "                        'online_backup', 'device_protection', 'tech_support', 'streaming_tv', 'streaming_movies', 'multiple_lines']\n",
    "\n",
    "numerical_features = ['monthly_charges', 'total_charges', 'tenure_days', 'senior_citizen']\n",
    "\n",
    "# Define transformers\n",
    "categorical_transformer = OneHotEncoder(handle_unknown='ignore')\n",
    "\n",
    "numerical_transformer = StandardScaler()\n",
    "\n",
    "passthrough_transformer = FunctionTransformer(lambda x: x)\n",
    "\n",
    "# Preprocessor\n",
    "preprocessor = ColumnTransformer(\n",
    "    transformers=[\n",
    "        ('cat', categorical_transformer, categorical_features),\n",
    "        ('num', numerical_transformer, numerical_features),\n",
    "        ('passtrough', passthrough_transformer, ['senior_citizen'])   # Here, this code is added in order 'senior_citizen' feature not affected by StandardScaler\n",
    "    ])\n"
   ]
  },
  {
   "cell_type": "markdown",
   "id": "c04e81c1-5865-4d1b-9ecb-d79ec8a7f6f1",
   "metadata": {},
   "source": [
    "#### Below, we create train_and_evaluate function"
   ]
  },
  {
   "cell_type": "code",
   "execution_count": 67,
   "id": "dd67feab-8d46-4e78-9f2f-a536dd6238ab",
   "metadata": {},
   "outputs": [],
   "source": [
    "def train_and_evaluate_model(pipeline, param_grid, X_train, y_train, X_val, y_val):\n",
    "    \"\"\"\n",
    "    Fits the model using GridSearchCV (including cv=5), makes predictions, and evaluates metrics.\n",
    "    \n",
    "    Parameters:\n",
    "    - pipeline: The model pipeline to train and evaluate.\n",
    "    - param_grid: The parameter grid for hyperparameter tuning.\n",
    "    - X_train: Training features.\n",
    "    - y_train: Training target.\n",
    "    - X_val: Validation features.\n",
    "    - y_val: Validation target.\n",
    "    \n",
    "    Returns:\n",
    "    - A dictionary containing best parameters, accuracy, F1 score, and ROC AUC score.\n",
    "    \"\"\"\n",
    "    \n",
    "    # Grid search\n",
    "    grid_search = GridSearchCV(estimator=pipeline,\n",
    "                               param_grid=param_grid,\n",
    "                               scoring=['roc_auc', 'accuracy', 'f1'],\n",
    "                               refit='roc_auc',\n",
    "                               cv=5,\n",
    "                               return_train_score=True)\n",
    "    \n",
    "    # Fitting the model\n",
    "    grid_search.fit(X_train, y_train)\n",
    "    \n",
    "    # Getting the best model and parameters\n",
    "    best_model = grid_search.best_estimator_\n",
    "    best_params = grid_search.best_params_\n",
    "    \n",
    "    # Makeing predictions on the validation set\n",
    "    y_val_pred = best_model.predict(X_val)\n",
    "    y_val_pred_proba = best_model.predict_proba(X_val)[:, 1]\n",
    "    \n",
    "    # Calculating the metrics\n",
    "    accuracy = accuracy_score(y_val, y_val_pred)\n",
    "    roc_auc = roc_auc_score(y_val, y_val_pred_proba)\n",
    "    f1 = f1_score(y_val, y_val_pred)\n",
    "    \n",
    "    # Printing the results\n",
    "    print(f'Best Params: {best_params}')\n",
    "    print(f'Validation Accuracy: {accuracy:.4f}')\n",
    "    print(f'Validation ROC AUC: {roc_auc:.4f}')\n",
    "    print(f'Validation F1 Score: {f1:.4f}')\n",
    "    \n",
    "    return {\n",
    "        'best_model': best_model,\n",
    "        'best_params': best_params,\n",
    "        'accuracy': accuracy,\n",
    "        'roc_auc': roc_auc,\n",
    "        'f1_score': f1,\n",
    "    }\n",
    "\n"
   ]
  },
  {
   "cell_type": "markdown",
   "id": "8a017fd9-7e79-4866-a49c-73f5342f2f3f",
   "metadata": {},
   "source": [
    "### 3. 1. Logistic Regression"
   ]
  },
  {
   "cell_type": "code",
   "execution_count": 70,
   "id": "c2471cd4-3ab5-4bb4-beff-820ab589d3f4",
   "metadata": {},
   "outputs": [
    {
     "name": "stdout",
     "output_type": "stream",
     "text": [
      "Best Params: {'model__C': 1, 'model__max_iter': 100, 'model__solver': 'lbfgs'}\n",
      "Validation Accuracy: 0.7360\n",
      "Validation ROC AUC: 0.8204\n",
      "Validation F1 Score: 0.5903\n"
     ]
    }
   ],
   "source": [
    "# Logistic Regression\n",
    "pipeline_lr = Pipeline(steps=[\n",
    "    ('preprocessor', preprocessor),\n",
    "    ('model', LogisticRegression(class_weight='balanced', random_state=12345))\n",
    "])\n",
    "\n",
    "param_grid_logreg = {\n",
    "    'model__C': [0.001, 0.01, 0.1, 1, 10, 100],\n",
    "    'model__solver': ['liblinear', 'lbfgs'],\n",
    "    'model__max_iter': [100, 200, 300],\n",
    "}\n",
    "\n",
    "results_lr = train_and_evaluate_model(pipeline_lr, param_grid_logreg, X_train, y_train, X_valid, y_valid)\n"
   ]
  },
  {
   "cell_type": "markdown",
   "id": "5506aee1-582f-40d6-ab5c-7ccd14f437f9",
   "metadata": {},
   "source": [
    "### 3. 2. RandomForestClassifier model"
   ]
  },
  {
   "cell_type": "code",
   "execution_count": 73,
   "id": "af8ce10e-d33f-4978-8c43-5af6a733eda2",
   "metadata": {},
   "outputs": [
    {
     "name": "stdout",
     "output_type": "stream",
     "text": [
      "Best Params: {'model__max_depth': 10, 'model__min_samples_split': 10, 'model__n_estimators': 200}\n",
      "Validation Accuracy: 0.7821\n",
      "Validation ROC AUC: 0.8482\n",
      "Validation F1 Score: 0.6119\n"
     ]
    }
   ],
   "source": [
    "pipeline_rf = Pipeline(steps=[\n",
    "    ('preprocessor', preprocessor),\n",
    "    ('model', RandomForestClassifier(class_weight='balanced', random_state = 12345))\n",
    "])\n",
    "\n",
    "param_grid_rf = {\n",
    "    'model__n_estimators': [50, 100, 200],\n",
    "    'model__max_depth': [None, 10, 20, 30],\n",
    "    'model__min_samples_split': [2, 5, 10],\n",
    "}\n",
    "\n",
    "results_rf = train_and_evaluate_model(pipeline_rf, param_grid_rf, X_train, y_train, X_valid, y_valid)"
   ]
  },
  {
   "cell_type": "markdown",
   "id": "5838773a-4d68-483a-8c4d-9317de0b53c7",
   "metadata": {},
   "source": [
    "### 3. 3. LightGBMClassifier model"
   ]
  },
  {
   "cell_type": "code",
   "execution_count": 76,
   "id": "a068d23d-7a72-43db-b796-7daeaa39d6db",
   "metadata": {},
   "outputs": [
    {
     "name": "stdout",
     "output_type": "stream",
     "text": [
      "Best Params: {'model__learning_rate': 0.2, 'model__max_depth': 5, 'model__n_estimators': 50, 'model__num_leaves': 15}\n",
      "Validation Accuracy: 0.8034\n",
      "Validation ROC AUC: 0.8797\n",
      "Validation F1 Score: 0.6593\n"
     ]
    }
   ],
   "source": [
    "pipeline_lgbm = Pipeline(steps=[\n",
    "    ('preprocessor', preprocessor),\n",
    "    ('model', LGBMClassifier(class_weight='balanced', verbose=-1))\n",
    "])\n",
    "\n",
    "param_grid_lgbm = {\n",
    "    'model__n_estimators': [20, 50],\n",
    "    'model__max_depth': [5, 10],\n",
    "    'model__learning_rate': [0.1, 0.2],\n",
    "    'model__num_leaves': [15, 31],\n",
    "}\n",
    "\n",
    "results_lgbm = train_and_evaluate_model(pipeline_lgbm, param_grid_lgbm, X_train, y_train, X_valid, y_valid)"
   ]
  },
  {
   "cell_type": "markdown",
   "id": "faec1b02-3bf7-487d-8e9b-ac8405efbf1e",
   "metadata": {},
   "source": [
    "### 3. 4. XGBoost model"
   ]
  },
  {
   "cell_type": "code",
   "execution_count": 79,
   "id": "836e5ebc-f7ff-4fa7-9ec1-445a27925ede",
   "metadata": {},
   "outputs": [
    {
     "name": "stdout",
     "output_type": "stream",
     "text": [
      "Best Params: {'model__colsample_bytree': 0.8, 'model__learning_rate': 0.1, 'model__max_depth': 10, 'model__n_estimators': 50, 'model__subsample': 0.8}\n",
      "Validation Accuracy: 0.8474\n",
      "Validation ROC AUC: 0.8724\n",
      "Validation F1 Score: 0.6646\n"
     ]
    }
   ],
   "source": [
    "pipeline_xgb = Pipeline(steps=[\n",
    "    ('preprocessor', preprocessor),\n",
    "    ('model', XGBClassifier(scale_pos_weight=1, use_label_encoder=False, eval_metric='logloss', verbosity=0))\n",
    "])\n",
    "\n",
    "param_grid_xgb = {\n",
    "    'model__n_estimators': [20, 50],\n",
    "    'model__max_depth': [3, 5, 10],\n",
    "    'model__learning_rate': [0.1, 0.02],\n",
    "    'model__subsample': [0.5, 0.8],\n",
    "    'model__colsample_bytree': [0.5, 0.8],\n",
    "}\n",
    "\n",
    "results_xgb = train_and_evaluate_model(pipeline_xgb, param_grid_xgb, X_train, y_train, X_valid, y_valid)"
   ]
  },
  {
   "cell_type": "markdown",
   "id": "7065e430-a77a-4743-8320-f1a871325802",
   "metadata": {},
   "source": [
    "### 3. 5. CatBoost model"
   ]
  },
  {
   "cell_type": "code",
   "execution_count": 82,
   "id": "793ce3f5-e280-4c68-8fd8-f636f014805e",
   "metadata": {},
   "outputs": [
    {
     "name": "stdout",
     "output_type": "stream",
     "text": [
      "Best Params: {'depth': 7, 'iterations': 100, 'l2_leaf_reg': 1, 'learning_rate': 0.1}\n",
      "Validation Accuracy: 0.8417\n",
      "Validation ROC AUC: 0.8663\n",
      "Validation F1 Score: 0.6443\n"
     ]
    }
   ],
   "source": [
    "\n",
    "X = df.drop('churn', axis=1)\n",
    "y = df['churn']\n",
    "\n",
    "#split into temporary and test datasets\n",
    "X_temp, X_test, y_temp, y_test = train_test_split(X, y, test_size=0.2, random_state=12345)\n",
    "\n",
    "#split into train and validation datasets\n",
    "X_train, X_valid, y_train, y_valid = train_test_split(X_temp, y_temp, test_size=0.25, random_state=12345)\n",
    "\n",
    "categorical_features = ['type', 'paperless_billing', 'payment_method', 'partner', 'dependents', 'internet_service', 'online_security', \n",
    "                        'online_backup', 'device_protection', 'tech_support', 'streaming_tv', 'streaming_movies', 'multiple_lines']\n",
    "\n",
    "# Defining model & param grid\n",
    "\n",
    "catboost_model = CatBoostClassifier(verbose=0, random_state=42)\n",
    "\n",
    "param_grid_catboost = {\n",
    "    'iterations': [50, 100],\n",
    "    'learning_rate': [0.05, 0.1],\n",
    "    'depth': [3, 5, 7],\n",
    "    'l2_leaf_reg': [1, 3, 5],\n",
    "}\n",
    "\n",
    "# GridSearchCV\n",
    "\n",
    "grid_search = GridSearchCV(\n",
    "    estimator=catboost_model,\n",
    "    param_grid=param_grid_catboost,\n",
    "    scoring=['roc_auc', 'accuracy', 'f1'],\n",
    "    refit='roc_auc',   # the metric used to select the best model\n",
    "    cv=5,\n",
    "    return_train_score=True\n",
    ")\n",
    "\n",
    "# Pass cat_features explicitly\n",
    "grid_search.fit(X_train, y_train, cat_features=categorical_features)\n",
    "\n",
    "# Best model & evaluation\n",
    "\n",
    "best_model = grid_search.best_estimator_\n",
    "best_params = grid_search.best_params_\n",
    "\n",
    "print(\"Best Params:\", best_params)\n",
    "\n",
    "# Predictions on validation set\n",
    "y_valid_pred = best_model.predict(X_valid)\n",
    "y_valid_pred_proba = best_model.predict_proba(X_valid)[:, 1]\n",
    "\n",
    "# Metrics\n",
    "accuracy = accuracy_score(y_valid, y_valid_pred)\n",
    "roc_auc = roc_auc_score(y_valid, y_valid_pred_proba)\n",
    "f1 = f1_score(y_valid, y_valid_pred)\n",
    "\n",
    "print(f\"Validation Accuracy: {accuracy:.4f}\")\n",
    "print(f\"Validation ROC AUC: {roc_auc:.4f}\")\n",
    "print(f\"Validation F1 Score: {f1:.4f}\")"
   ]
  },
  {
   "cell_type": "markdown",
   "id": "475fbc94-56ce-442e-a6ac-82ba5f0dd6a7",
   "metadata": {},
   "source": [
    "#### Among the above trained and tested models, XGBoost outputs highest ROC-AUC value. Below we use this model with 'test' dataset to make predictions."
   ]
  },
  {
   "cell_type": "code",
   "execution_count": 85,
   "id": "850b8066-a8d0-4737-bb79-ce33961f1a10",
   "metadata": {},
   "outputs": [
    {
     "name": "stdout",
     "output_type": "stream",
     "text": [
      "Test Accuracy: 0.8488\n",
      "Test ROC AUC: 0.8829\n",
      "Test F1 Score: 0.6816\n"
     ]
    },
    {
     "data": {
      "image/png": "[encoded data removed]",
      "text/plain": [
       "<Figure size 500x500 with 1 Axes>"
      ]
     },
     "metadata": {},
     "output_type": "display_data"
    }
   ],
   "source": [
    "# 'test' dataset with the best XGBoost model:\n",
    "\n",
    "# Extracting the best model from results\n",
    "best_xgb_model = results_xgb['best_model']\n",
    "\n",
    "# Making predictions on the test set\n",
    "y_test_pred = best_xgb_model.predict(X_test)\n",
    "y_test_pred_proba = best_xgb_model.predict_proba(X_test)[:, 1]\n",
    "\n",
    "# Calculating metrics for the test set\n",
    "test_accuracy = accuracy_score(y_test, y_test_pred)\n",
    "test_roc_auc = roc_auc_score(y_test, y_test_pred_proba)\n",
    "test_f1 = f1_score(y_test, y_test_pred)\n",
    "\n",
    "# Printing the test metrics\n",
    "print(f'Test Accuracy: {test_accuracy:.4f}')\n",
    "print(f'Test ROC AUC: {test_roc_auc:.4f}')\n",
    "print(f'Test F1 Score: {test_f1:.4f}')\n",
    "\n",
    "fpr, tpr, thresholds = roc_curve(y_test, y_test_pred_proba)\n",
    "roc_auc_test = auc(fpr, tpr)\n",
    "\n",
    "plt.figure(figsize=(5, 5))\n",
    "plt.plot(fpr, tpr, color='blue', label='ROC curve (area = {:.2f})'.format(roc_auc_test))\n",
    "plt.plot([0, 1], [0, 1], color='red', linestyle='--')  # Diagonal line\n",
    "plt.xlim([0.0, 1.0])\n",
    "plt.ylim([0.0, 1.05])\n",
    "plt.xlabel('False Positive Rate')\n",
    "plt.ylabel('True Positive Rate')\n",
    "plt.title('Receiver Operating Characteristic (ROC) Curve')\n",
    "plt.legend(loc='lower right')\n",
    "plt.grid()\n",
    "plt.show()"
   ]
  },
  {
   "cell_type": "markdown",
   "id": "022aa9c5-daa7-4c72-aa1f-b6343e168eff",
   "metadata": {},
   "source": [
    "## Conclusion\n",
    "In this project, we analyzed customer data from the telecom operator Interconnect to build a predictive model for customer churn. The data underwent preprocessing, feature engineering, and exploratory data analysis (EDA) to prepare it for a supervised binary classification task.\n",
    "\n",
    "For preprocessing, one-hot encoding (OHE) was applied to categorical features and StandardScaler was used for numerical features. Model selection involved cross-validation and hyperparameter tuning with GridSearchCV to ensure robust performance.\n",
    "\n",
    "We trained and evaluated several classification models, including:\n",
    "\n",
    "- Logistic Regression  \n",
    "- Random Forest Classifier  \n",
    "- LightGBM  \n",
    "- XGBoost  \n",
    "- CatBoost\n",
    "\n",
    "Model performances were evaluated using the accuracy, ROC-AUC, and F1 score metrics. The results are summarized in the table below:\n",
    "\n",
    "\n",
    "<div style=\"text-align:center\">\n",
    "\n",
    "| Model                   | Dataset      | Accuracy | ROC-AUC  | F1 Score |\n",
    "|-------------------------|--------------|----------|----------|----------|\n",
    "| LogisticRegression      |  validation  |  0.7360  |  0.8204  |  0.5903  |\n",
    "| RandomForestClassifier  |  validation  |  0.7821  |  0.8482  |  0.6119  |\n",
    "| LightGBMClassifier      |  validation  |  0.8034  |  0.8797  |  0.6593  |\n",
    "| XGBClassifier           |  validation  |  0.8474  |  0.8724  |  0.6646  |\n",
    "| CatboostClassifier      |  validation  |  0.8417  |  0.8663  |  0.6443  |\n",
    "| XGBClassifier           |     test     |  0.8488  |  0.8829  |  0.6816  |\n",
    "\n",
    "</div>\n",
    "\n",
    "After fine-tuning the models' hyperparameters and evaluating them on the test dataset, XGBoost emerged as the best model, achieving a ROC-AUC of 0.8829.\n",
    "\n",
    "Based on these results, we recommend using the XGBoost model with the tuned hyperparameters to predict customer churn for the company."
   ]
  },
  {
   "cell_type": "code",
   "execution_count": null,
   "id": "cc1f6f6f-5e5d-464c-8b26-7437c0ab12f0",
   "metadata": {},
   "outputs": [],
   "source": []
  }
 ],
 "metadata": {
  "kernelspec": {
   "display_name": "Python 3 (ipykernel)",
   "language": "python",
   "name": "python3"
  },
  "language_info": {
   "codemirror_mode": {
    "name": "ipython",
    "version": 3
   },
   "file_extension": ".py",
   "mimetype": "text/x-python",
   "name": "python",
   "nbconvert_exporter": "python",
   "pygments_lexer": "ipython3",
   "version": "3.12.4"
  }
 },
 "nbformat": 4,
 "nbformat_minor": 5
}
